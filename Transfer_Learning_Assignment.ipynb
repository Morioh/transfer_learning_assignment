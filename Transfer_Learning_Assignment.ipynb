{
  "cells": [
    {
      "cell_type": "markdown",
      "metadata": {
        "id": "view-in-github",
        "colab_type": "text"
      },
      "source": [
        "<a href=\"https://colab.research.google.com/github/Morioh/transfer_learning_assignment/blob/main/Transfer_Learning_Assignment.ipynb\" target=\"_parent\"><img src=\"https://colab.research.google.com/assets/colab-badge.svg\" alt=\"Open In Colab\"/></a>"
      ]
    },
    {
      "cell_type": "code",
      "source": [
        "from tensorflow.keras.preprocessing.image import ImageDataGenerator\n",
        "from sklearn.metrics import confusion_matrix, classification_report\n",
        "from tensorflow.keras.applications import ResNet50, EfficientNetB0\n",
        "from sklearn.model_selection import train_test_split\n",
        "from tensorflow.keras import layers, models\n",
        "import tensorflow as tf\n",
        "from PIL import Image\n",
        "import numpy as np\n",
        "import os\n",
        "import cv2"
      ],
      "metadata": {
        "id": "lssfq0XDO4ej"
      },
      "execution_count": 12,
      "outputs": []
    },
    {
      "cell_type": "code",
      "source": [
        "from google.colab import drive\n",
        "drive.mount('/content/drive')"
      ],
      "metadata": {
        "colab": {
          "base_uri": "https://localhost:8080/"
        },
        "id": "InLwPlClIEP6",
        "outputId": "cfcc322b-cbf6-4177-cded-f7014a6ac3d0"
      },
      "execution_count": 2,
      "outputs": [
        {
          "output_type": "stream",
          "name": "stdout",
          "text": [
            "Mounted at /content/drive\n"
          ]
        }
      ]
    },
    {
      "cell_type": "code",
      "execution_count": 3,
      "metadata": {
        "id": "D-a9yEH9Db16"
      },
      "outputs": [],
      "source": [
        "# Unzip the file\n",
        "import zipfile\n",
        "\n",
        "with zipfile.ZipFile(\"/content/drive/MyDrive/Alusive Documents Classification.zip\", 'r') as zip_ref:\n",
        "    zip_ref.extractall(\"/content/data/Alusive Documents Classification\")  # Extract to a folder"
      ]
    },
    {
      "cell_type": "code",
      "source": [
        "data_dir = '/content/data/Alusive Documents Classification'  # Main directory\n",
        "\n",
        "for root, dirs, files in os.walk(data_dir):\n",
        "    for file in files:\n",
        "        file_path = os.path.join(root, file)\n",
        "        try:\n",
        "            # Try to open the image file\n",
        "            img = Image.open(file_path)\n",
        "            img.verify()  # Verify that it's a valid image\n",
        "        except (IOError, SyntaxError):\n",
        "            print(f\"Removing corrupted or unreadable image file: {file_path}\")\n",
        "            os.remove(file_path)"
      ],
      "metadata": {
        "colab": {
          "base_uri": "https://localhost:8080/"
        },
        "id": "dHA7KPz1Pd7s",
        "outputId": "5cd341e7-c6a8-45d3-c357-b3122fdbe3ea"
      },
      "execution_count": 4,
      "outputs": [
        {
          "output_type": "stream",
          "name": "stdout",
          "text": [
            "Removing corrupted or unreadable image file: /content/data/Alusive Documents Classification/Alusive Documents Classification/.DS_Store\n",
            "Removing corrupted or unreadable image file: /content/data/Alusive Documents Classification/Alusive Documents Classification/Signed/.DS_Store\n",
            "Removing corrupted or unreadable image file: /content/data/Alusive Documents Classification/Alusive Documents Classification/Unsigned/.DS_Store\n",
            "Removing corrupted or unreadable image file: /content/data/Alusive Documents Classification/__MACOSX/Alusive Documents Classification/._.DS_Store\n",
            "Removing corrupted or unreadable image file: /content/data/Alusive Documents Classification/__MACOSX/Alusive Documents Classification/Signed/._IMG_3017.jpg\n",
            "Removing corrupted or unreadable image file: /content/data/Alusive Documents Classification/__MACOSX/Alusive Documents Classification/Signed/._IMG_3022.jpg\n",
            "Removing corrupted or unreadable image file: /content/data/Alusive Documents Classification/__MACOSX/Alusive Documents Classification/Signed/._IMG_3035.jpg\n",
            "Removing corrupted or unreadable image file: /content/data/Alusive Documents Classification/__MACOSX/Alusive Documents Classification/Signed/._IMG_3027.jpg\n",
            "Removing corrupted or unreadable image file: /content/data/Alusive Documents Classification/__MACOSX/Alusive Documents Classification/Signed/._IMG_3045.jpg\n",
            "Removing corrupted or unreadable image file: /content/data/Alusive Documents Classification/__MACOSX/Alusive Documents Classification/Signed/._IMG_3025.jpg\n",
            "Removing corrupted or unreadable image file: /content/data/Alusive Documents Classification/__MACOSX/Alusive Documents Classification/Signed/._IMG_3032.jpg\n",
            "Removing corrupted or unreadable image file: /content/data/Alusive Documents Classification/__MACOSX/Alusive Documents Classification/Signed/._IMG_3082.jpg\n",
            "Removing corrupted or unreadable image file: /content/data/Alusive Documents Classification/__MACOSX/Alusive Documents Classification/Signed/._IMG_3062.jpg\n",
            "Removing corrupted or unreadable image file: /content/data/Alusive Documents Classification/__MACOSX/Alusive Documents Classification/Signed/._IMG_3063.jpg\n",
            "Removing corrupted or unreadable image file: /content/data/Alusive Documents Classification/__MACOSX/Alusive Documents Classification/Signed/._IMG_3070.jpg\n",
            "Removing corrupted or unreadable image file: /content/data/Alusive Documents Classification/__MACOSX/Alusive Documents Classification/Signed/._IMG_3036.jpg\n",
            "Removing corrupted or unreadable image file: /content/data/Alusive Documents Classification/__MACOSX/Alusive Documents Classification/Signed/._IMG_3019.jpg\n",
            "Removing corrupted or unreadable image file: /content/data/Alusive Documents Classification/__MACOSX/Alusive Documents Classification/Signed/._IMG_3078.jpg\n",
            "Removing corrupted or unreadable image file: /content/data/Alusive Documents Classification/__MACOSX/Alusive Documents Classification/Signed/._IMG_3071.jpg\n",
            "Removing corrupted or unreadable image file: /content/data/Alusive Documents Classification/__MACOSX/Alusive Documents Classification/Signed/._IMG_3064.jpg\n",
            "Removing corrupted or unreadable image file: /content/data/Alusive Documents Classification/__MACOSX/Alusive Documents Classification/Signed/._IMG_3038.jpg\n",
            "Removing corrupted or unreadable image file: /content/data/Alusive Documents Classification/__MACOSX/Alusive Documents Classification/Signed/._IMG_3083.jpg\n",
            "Removing corrupted or unreadable image file: /content/data/Alusive Documents Classification/__MACOSX/Alusive Documents Classification/Signed/._IMG_3076.jpg\n",
            "Removing corrupted or unreadable image file: /content/data/Alusive Documents Classification/__MACOSX/Alusive Documents Classification/Signed/._IMG_3047.jpg\n",
            "Removing corrupted or unreadable image file: /content/data/Alusive Documents Classification/__MACOSX/Alusive Documents Classification/Signed/._IMG_3080.jpg\n",
            "Removing corrupted or unreadable image file: /content/data/Alusive Documents Classification/__MACOSX/Alusive Documents Classification/Signed/._IMG_3037.jpg\n",
            "Removing corrupted or unreadable image file: /content/data/Alusive Documents Classification/__MACOSX/Alusive Documents Classification/Signed/._IMG_3041.jpg\n",
            "Removing corrupted or unreadable image file: /content/data/Alusive Documents Classification/__MACOSX/Alusive Documents Classification/Signed/._IMG_3074.jpg\n",
            "Removing corrupted or unreadable image file: /content/data/Alusive Documents Classification/__MACOSX/Alusive Documents Classification/Signed/._IMG_3039.jpg\n",
            "Removing corrupted or unreadable image file: /content/data/Alusive Documents Classification/__MACOSX/Alusive Documents Classification/Signed/._IMG_3046.jpg\n",
            "Removing corrupted or unreadable image file: /content/data/Alusive Documents Classification/__MACOSX/Alusive Documents Classification/Signed/._IMG_3060.jpg\n",
            "Removing corrupted or unreadable image file: /content/data/Alusive Documents Classification/__MACOSX/Alusive Documents Classification/Signed/._IMG_3066.jpg\n",
            "Removing corrupted or unreadable image file: /content/data/Alusive Documents Classification/__MACOSX/Alusive Documents Classification/Signed/._IMG_3055.jpg\n",
            "Removing corrupted or unreadable image file: /content/data/Alusive Documents Classification/__MACOSX/Alusive Documents Classification/Signed/._IMG_3011.jpg\n",
            "Removing corrupted or unreadable image file: /content/data/Alusive Documents Classification/__MACOSX/Alusive Documents Classification/Signed/._IMG_3050.jpg\n",
            "Removing corrupted or unreadable image file: /content/data/Alusive Documents Classification/__MACOSX/Alusive Documents Classification/Signed/._IMG_3069.jpg\n",
            "Removing corrupted or unreadable image file: /content/data/Alusive Documents Classification/__MACOSX/Alusive Documents Classification/Signed/._IMG_3031.jpg\n",
            "Removing corrupted or unreadable image file: /content/data/Alusive Documents Classification/__MACOSX/Alusive Documents Classification/Signed/._IMG_3029.jpg\n",
            "Removing corrupted or unreadable image file: /content/data/Alusive Documents Classification/__MACOSX/Alusive Documents Classification/Signed/._IMG_3079.jpg\n",
            "Removing corrupted or unreadable image file: /content/data/Alusive Documents Classification/__MACOSX/Alusive Documents Classification/Signed/._IMG_3056.jpg\n",
            "Removing corrupted or unreadable image file: /content/data/Alusive Documents Classification/__MACOSX/Alusive Documents Classification/Signed/._IMG_3021.jpg\n",
            "Removing corrupted or unreadable image file: /content/data/Alusive Documents Classification/__MACOSX/Alusive Documents Classification/Signed/._IMG_3033.jpg\n",
            "Removing corrupted or unreadable image file: /content/data/Alusive Documents Classification/__MACOSX/Alusive Documents Classification/Signed/._IMG_3043.jpg\n",
            "Removing corrupted or unreadable image file: /content/data/Alusive Documents Classification/__MACOSX/Alusive Documents Classification/Signed/._IMG_3042.jpg\n",
            "Removing corrupted or unreadable image file: /content/data/Alusive Documents Classification/__MACOSX/Alusive Documents Classification/Signed/._IMG_3065.jpg\n",
            "Removing corrupted or unreadable image file: /content/data/Alusive Documents Classification/__MACOSX/Alusive Documents Classification/Signed/._IMG_3020.jpg\n",
            "Removing corrupted or unreadable image file: /content/data/Alusive Documents Classification/__MACOSX/Alusive Documents Classification/Signed/._IMG_3048.jpg\n",
            "Removing corrupted or unreadable image file: /content/data/Alusive Documents Classification/__MACOSX/Alusive Documents Classification/Signed/._IMG_3059.jpg\n",
            "Removing corrupted or unreadable image file: /content/data/Alusive Documents Classification/__MACOSX/Alusive Documents Classification/Signed/._IMG_3072.jpg\n",
            "Removing corrupted or unreadable image file: /content/data/Alusive Documents Classification/__MACOSX/Alusive Documents Classification/Signed/._Screenshot 2024-11-05 at 18.29.44.jpeg\n",
            "Removing corrupted or unreadable image file: /content/data/Alusive Documents Classification/__MACOSX/Alusive Documents Classification/Signed/._.DS_Store\n",
            "Removing corrupted or unreadable image file: /content/data/Alusive Documents Classification/__MACOSX/Alusive Documents Classification/Signed/._IMG_3061.jpg\n",
            "Removing corrupted or unreadable image file: /content/data/Alusive Documents Classification/__MACOSX/Alusive Documents Classification/Signed/._IMG_3013.jpg\n",
            "Removing corrupted or unreadable image file: /content/data/Alusive Documents Classification/__MACOSX/Alusive Documents Classification/Signed/._IMG_3028.jpg\n",
            "Removing corrupted or unreadable image file: /content/data/Alusive Documents Classification/__MACOSX/Alusive Documents Classification/Signed/._IMG_3081.jpg\n",
            "Removing corrupted or unreadable image file: /content/data/Alusive Documents Classification/__MACOSX/Alusive Documents Classification/Signed/._IMG_3052.jpg\n",
            "Removing corrupted or unreadable image file: /content/data/Alusive Documents Classification/__MACOSX/Alusive Documents Classification/Signed/._IMG_3012.jpg\n",
            "Removing corrupted or unreadable image file: /content/data/Alusive Documents Classification/__MACOSX/Alusive Documents Classification/Signed/._IMG_3077.jpg\n",
            "Removing corrupted or unreadable image file: /content/data/Alusive Documents Classification/__MACOSX/Alusive Documents Classification/Signed/._IMG_3014.jpg\n",
            "Removing corrupted or unreadable image file: /content/data/Alusive Documents Classification/__MACOSX/Alusive Documents Classification/Signed/._IMG_3023.jpg\n",
            "Removing corrupted or unreadable image file: /content/data/Alusive Documents Classification/__MACOSX/Alusive Documents Classification/Signed/._IMG_3024.jpg\n",
            "Removing corrupted or unreadable image file: /content/data/Alusive Documents Classification/__MACOSX/Alusive Documents Classification/Signed/._IMG_3057.jpg\n",
            "Removing corrupted or unreadable image file: /content/data/Alusive Documents Classification/__MACOSX/Alusive Documents Classification/Signed/._IMG_3051.jpg\n",
            "Removing corrupted or unreadable image file: /content/data/Alusive Documents Classification/__MACOSX/Alusive Documents Classification/Signed/._IMG_3054.jpg\n",
            "Removing corrupted or unreadable image file: /content/data/Alusive Documents Classification/__MACOSX/Alusive Documents Classification/Signed/._IMG_3044.jpg\n",
            "Removing corrupted or unreadable image file: /content/data/Alusive Documents Classification/__MACOSX/Alusive Documents Classification/Signed/._IMG_3030.jpg\n",
            "Removing corrupted or unreadable image file: /content/data/Alusive Documents Classification/__MACOSX/Alusive Documents Classification/Signed/._IMG_3016.jpg\n",
            "Removing corrupted or unreadable image file: /content/data/Alusive Documents Classification/__MACOSX/Alusive Documents Classification/Signed/._IMG_3049.jpg\n",
            "Removing corrupted or unreadable image file: /content/data/Alusive Documents Classification/__MACOSX/Alusive Documents Classification/Signed/._IMG_3034.jpg\n",
            "Removing corrupted or unreadable image file: /content/data/Alusive Documents Classification/__MACOSX/Alusive Documents Classification/Signed/._IMG_3015.jpg\n",
            "Removing corrupted or unreadable image file: /content/data/Alusive Documents Classification/__MACOSX/Alusive Documents Classification/Signed/._IMG_3075.jpg\n",
            "Removing corrupted or unreadable image file: /content/data/Alusive Documents Classification/__MACOSX/Alusive Documents Classification/Signed/._IMG_3067.jpg\n",
            "Removing corrupted or unreadable image file: /content/data/Alusive Documents Classification/__MACOSX/Alusive Documents Classification/Signed/._IMG_3058.jpg\n",
            "Removing corrupted or unreadable image file: /content/data/Alusive Documents Classification/__MACOSX/Alusive Documents Classification/Unsigned/._IMG_3084 copy 19.jpg\n",
            "Removing corrupted or unreadable image file: /content/data/Alusive Documents Classification/__MACOSX/Alusive Documents Classification/Unsigned/._Screenshot 2024-11-05 at 18.39.46.jpeg\n",
            "Removing corrupted or unreadable image file: /content/data/Alusive Documents Classification/__MACOSX/Alusive Documents Classification/Unsigned/._IMG_3084 copy 31.jpg\n",
            "Removing corrupted or unreadable image file: /content/data/Alusive Documents Classification/__MACOSX/Alusive Documents Classification/Unsigned/._IMG_3068 copy 5.jpg\n",
            "Removing corrupted or unreadable image file: /content/data/Alusive Documents Classification/__MACOSX/Alusive Documents Classification/Unsigned/._IMG_3084 copy 20.jpg\n",
            "Removing corrupted or unreadable image file: /content/data/Alusive Documents Classification/__MACOSX/Alusive Documents Classification/Unsigned/._IMG_3084 copy 8.jpg\n",
            "Removing corrupted or unreadable image file: /content/data/Alusive Documents Classification/__MACOSX/Alusive Documents Classification/Unsigned/._IMG_3084 copy 11.jpg\n",
            "Removing corrupted or unreadable image file: /content/data/Alusive Documents Classification/__MACOSX/Alusive Documents Classification/Unsigned/._IMG_3068 copy 9.jpg\n",
            "Removing corrupted or unreadable image file: /content/data/Alusive Documents Classification/__MACOSX/Alusive Documents Classification/Unsigned/._IMG_3068 copy 11.jpg\n",
            "Removing corrupted or unreadable image file: /content/data/Alusive Documents Classification/__MACOSX/Alusive Documents Classification/Unsigned/._IMG_3084 copy 23.jpg\n",
            "Removing corrupted or unreadable image file: /content/data/Alusive Documents Classification/__MACOSX/Alusive Documents Classification/Unsigned/._IMG_3084 copy 5.jpg\n",
            "Removing corrupted or unreadable image file: /content/data/Alusive Documents Classification/__MACOSX/Alusive Documents Classification/Unsigned/._IMG_3068 copy 29.jpg\n",
            "Removing corrupted or unreadable image file: /content/data/Alusive Documents Classification/__MACOSX/Alusive Documents Classification/Unsigned/._IMG_3084 copy 17.jpg\n",
            "Removing corrupted or unreadable image file: /content/data/Alusive Documents Classification/__MACOSX/Alusive Documents Classification/Unsigned/._IMG_3084 copy 22.jpg\n",
            "Removing corrupted or unreadable image file: /content/data/Alusive Documents Classification/__MACOSX/Alusive Documents Classification/Unsigned/._IMG_3068 copy 2.jpg\n",
            "Removing corrupted or unreadable image file: /content/data/Alusive Documents Classification/__MACOSX/Alusive Documents Classification/Unsigned/._IMG_3068 copy 7.jpg\n",
            "Removing corrupted or unreadable image file: /content/data/Alusive Documents Classification/__MACOSX/Alusive Documents Classification/Unsigned/._IMG_3068 copy 15.jpg\n",
            "Removing corrupted or unreadable image file: /content/data/Alusive Documents Classification/__MACOSX/Alusive Documents Classification/Unsigned/._Screenshot 2024-11-05 at 18.42.16.jpeg\n",
            "Removing corrupted or unreadable image file: /content/data/Alusive Documents Classification/__MACOSX/Alusive Documents Classification/Unsigned/._IMG_3068 copy.jpg\n",
            "Removing corrupted or unreadable image file: /content/data/Alusive Documents Classification/__MACOSX/Alusive Documents Classification/Unsigned/._IMG_3084.jpg\n",
            "Removing corrupted or unreadable image file: /content/data/Alusive Documents Classification/__MACOSX/Alusive Documents Classification/Unsigned/._IMG_3068 copy 21.jpg\n",
            "Removing corrupted or unreadable image file: /content/data/Alusive Documents Classification/__MACOSX/Alusive Documents Classification/Unsigned/._IMG_3068 copy 8.jpg\n",
            "Removing corrupted or unreadable image file: /content/data/Alusive Documents Classification/__MACOSX/Alusive Documents Classification/Unsigned/._IMG_3068.jpg\n",
            "Removing corrupted or unreadable image file: /content/data/Alusive Documents Classification/__MACOSX/Alusive Documents Classification/Unsigned/._IMG_3068 copy 16.jpg\n",
            "Removing corrupted or unreadable image file: /content/data/Alusive Documents Classification/__MACOSX/Alusive Documents Classification/Unsigned/._IMG_3068 copy 17.jpg\n",
            "Removing corrupted or unreadable image file: /content/data/Alusive Documents Classification/__MACOSX/Alusive Documents Classification/Unsigned/._IMG_3068 copy 30.jpg\n",
            "Removing corrupted or unreadable image file: /content/data/Alusive Documents Classification/__MACOSX/Alusive Documents Classification/Unsigned/._IMG_3084 copy 2.jpg\n",
            "Removing corrupted or unreadable image file: /content/data/Alusive Documents Classification/__MACOSX/Alusive Documents Classification/Unsigned/._IMG_3084 copy 4.jpg\n",
            "Removing corrupted or unreadable image file: /content/data/Alusive Documents Classification/__MACOSX/Alusive Documents Classification/Unsigned/._IMG_3084 copy 30.jpg\n",
            "Removing corrupted or unreadable image file: /content/data/Alusive Documents Classification/__MACOSX/Alusive Documents Classification/Unsigned/._IMG_3068 copy 3.jpg\n",
            "Removing corrupted or unreadable image file: /content/data/Alusive Documents Classification/__MACOSX/Alusive Documents Classification/Unsigned/._IMG_3084 copy 28.jpg\n",
            "Removing corrupted or unreadable image file: /content/data/Alusive Documents Classification/__MACOSX/Alusive Documents Classification/Unsigned/._IMG_3068 copy 18.jpg\n",
            "Removing corrupted or unreadable image file: /content/data/Alusive Documents Classification/__MACOSX/Alusive Documents Classification/Unsigned/._IMG_3084 copy 18.jpg\n",
            "Removing corrupted or unreadable image file: /content/data/Alusive Documents Classification/__MACOSX/Alusive Documents Classification/Unsigned/._IMG_3068 copy 12.jpg\n",
            "Removing corrupted or unreadable image file: /content/data/Alusive Documents Classification/__MACOSX/Alusive Documents Classification/Unsigned/._IMG_3068 copy 22.jpg\n",
            "Removing corrupted or unreadable image file: /content/data/Alusive Documents Classification/__MACOSX/Alusive Documents Classification/Unsigned/._IMG_3084 copy 6.jpg\n",
            "Removing corrupted or unreadable image file: /content/data/Alusive Documents Classification/__MACOSX/Alusive Documents Classification/Unsigned/._IMG_3068 copy 19.jpg\n",
            "Removing corrupted or unreadable image file: /content/data/Alusive Documents Classification/__MACOSX/Alusive Documents Classification/Unsigned/._IMG_3084 copy 14.jpg\n",
            "Removing corrupted or unreadable image file: /content/data/Alusive Documents Classification/__MACOSX/Alusive Documents Classification/Unsigned/._IMG_3068 copy 25.jpg\n",
            "Removing corrupted or unreadable image file: /content/data/Alusive Documents Classification/__MACOSX/Alusive Documents Classification/Unsigned/._IMG_3084 copy 16.jpg\n",
            "Removing corrupted or unreadable image file: /content/data/Alusive Documents Classification/__MACOSX/Alusive Documents Classification/Unsigned/._IMG_3084 copy 29.jpg\n",
            "Removing corrupted or unreadable image file: /content/data/Alusive Documents Classification/__MACOSX/Alusive Documents Classification/Unsigned/._IMG_3068 copy 26.jpg\n",
            "Removing corrupted or unreadable image file: /content/data/Alusive Documents Classification/__MACOSX/Alusive Documents Classification/Unsigned/._IMG_3084 copy 27.jpg\n",
            "Removing corrupted or unreadable image file: /content/data/Alusive Documents Classification/__MACOSX/Alusive Documents Classification/Unsigned/._IMG_3068 copy 31.jpg\n",
            "Removing corrupted or unreadable image file: /content/data/Alusive Documents Classification/__MACOSX/Alusive Documents Classification/Unsigned/._IMG_3084 copy 26.jpg\n",
            "Removing corrupted or unreadable image file: /content/data/Alusive Documents Classification/__MACOSX/Alusive Documents Classification/Unsigned/._IMG_3084 copy.jpg\n",
            "Removing corrupted or unreadable image file: /content/data/Alusive Documents Classification/__MACOSX/Alusive Documents Classification/Unsigned/._IMG_3068 copy 4.jpg\n",
            "Removing corrupted or unreadable image file: /content/data/Alusive Documents Classification/__MACOSX/Alusive Documents Classification/Unsigned/._IMG_3068 copy 14.jpg\n",
            "Removing corrupted or unreadable image file: /content/data/Alusive Documents Classification/__MACOSX/Alusive Documents Classification/Unsigned/._IMG_3068 copy 24.jpg\n",
            "Removing corrupted or unreadable image file: /content/data/Alusive Documents Classification/__MACOSX/Alusive Documents Classification/Unsigned/._.DS_Store\n",
            "Removing corrupted or unreadable image file: /content/data/Alusive Documents Classification/__MACOSX/Alusive Documents Classification/Unsigned/._IMG_3068 copy 28.jpg\n",
            "Removing corrupted or unreadable image file: /content/data/Alusive Documents Classification/__MACOSX/Alusive Documents Classification/Unsigned/._IMG_3068 copy 10.jpg\n",
            "Removing corrupted or unreadable image file: /content/data/Alusive Documents Classification/__MACOSX/Alusive Documents Classification/Unsigned/._IMG_3084 copy 25.jpg\n",
            "Removing corrupted or unreadable image file: /content/data/Alusive Documents Classification/__MACOSX/Alusive Documents Classification/Unsigned/._IMG_3084 copy 13.jpg\n",
            "Removing corrupted or unreadable image file: /content/data/Alusive Documents Classification/__MACOSX/Alusive Documents Classification/Unsigned/._IMG_3084 copy 7.jpg\n",
            "Removing corrupted or unreadable image file: /content/data/Alusive Documents Classification/__MACOSX/Alusive Documents Classification/Unsigned/._IMG_3068 copy 20.jpg\n",
            "Removing corrupted or unreadable image file: /content/data/Alusive Documents Classification/__MACOSX/Alusive Documents Classification/Unsigned/._IMG_3084 copy 10.jpg\n",
            "Removing corrupted or unreadable image file: /content/data/Alusive Documents Classification/__MACOSX/Alusive Documents Classification/Unsigned/._Screenshot 2024-11-05 at 18.38.15.jpeg\n",
            "Removing corrupted or unreadable image file: /content/data/Alusive Documents Classification/__MACOSX/Alusive Documents Classification/Unsigned/._IMG_3068 copy 27.jpg\n",
            "Removing corrupted or unreadable image file: /content/data/Alusive Documents Classification/__MACOSX/Alusive Documents Classification/Unsigned/._IMG_3084 copy 24.jpg\n",
            "Removing corrupted or unreadable image file: /content/data/Alusive Documents Classification/__MACOSX/Alusive Documents Classification/Unsigned/._IMG_3084 copy 9.jpg\n",
            "Removing corrupted or unreadable image file: /content/data/Alusive Documents Classification/__MACOSX/Alusive Documents Classification/Unsigned/._IMG_3084 copy 15.jpg\n",
            "Removing corrupted or unreadable image file: /content/data/Alusive Documents Classification/__MACOSX/Alusive Documents Classification/Unsigned/._IMG_3068 copy 6.jpg\n",
            "Removing corrupted or unreadable image file: /content/data/Alusive Documents Classification/__MACOSX/Alusive Documents Classification/Unsigned/._IMG_3084 copy 12.jpg\n",
            "Removing corrupted or unreadable image file: /content/data/Alusive Documents Classification/__MACOSX/Alusive Documents Classification/Unsigned/._IMG_3068 copy 13.jpg\n",
            "Removing corrupted or unreadable image file: /content/data/Alusive Documents Classification/__MACOSX/Alusive Documents Classification/Unsigned/._IMG_3084 copy 3.jpg\n",
            "Removing corrupted or unreadable image file: /content/data/Alusive Documents Classification/__MACOSX/Alusive Documents Classification/Unsigned/._IMG_3068 copy 23.jpg\n",
            "Removing corrupted or unreadable image file: /content/data/Alusive Documents Classification/__MACOSX/Alusive Documents Classification/Unsigned/._Screenshot 2024-11-05 at 18.36.10.jpeg\n",
            "Removing corrupted or unreadable image file: /content/data/Alusive Documents Classification/__MACOSX/Alusive Documents Classification/Unsigned/._IMG_3084 copy 21.jpg\n"
          ]
        }
      ]
    },
    {
      "cell_type": "code",
      "source": [
        "import os\n",
        "print(os.listdir('/content/data/Alusive Documents Classification/Alusive Documents Classification'))"
      ],
      "metadata": {
        "colab": {
          "base_uri": "https://localhost:8080/"
        },
        "id": "c0432Pjx3uZt",
        "outputId": "dddb7b92-8e7c-44c5-e349-d8105333a155"
      },
      "execution_count": 5,
      "outputs": [
        {
          "output_type": "stream",
          "name": "stdout",
          "text": [
            "['Signed', 'Unsigned']\n"
          ]
        }
      ]
    },
    {
      "cell_type": "code",
      "source": [
        "# Set parameters for image size and batch size\n",
        "IMG_SIZE = (224, 224)\n",
        "BATCH_SIZE = 32\n",
        "\n",
        "# Training and validation generator with data augmentation\n",
        "data_gen = ImageDataGenerator(\n",
        "    rescale=1./255,\n",
        "    validation_split=0.2,  # Reserve 20% of data for validation\n",
        "    rotation_range=10,\n",
        "    width_shift_range=0.1,\n",
        "    height_shift_range=0.1,\n",
        "    shear_range=0.1,\n",
        "    zoom_range=0.1,\n",
        "    horizontal_flip=True\n",
        ")\n",
        "\n",
        "# Set up training data generator\n",
        "train_data_gen = data_gen.flow_from_directory(\n",
        "    '/content/data/Alusive Documents Classification',  # Path to the root folder containing signed and unsigned subfolders\n",
        "    target_size=IMG_SIZE,\n",
        "    batch_size=BATCH_SIZE,\n",
        "    class_mode='binary',\n",
        "    subset='training'\n",
        ")\n",
        "\n",
        "# Set up validation data generator\n",
        "val_data_gen = data_gen.flow_from_directory(\n",
        "    '/content/data/Alusive Documents Classification',\n",
        "    target_size=IMG_SIZE,\n",
        "    batch_size=BATCH_SIZE,\n",
        "    class_mode='binary',\n",
        "    subset='validation'\n",
        ")\n",
        "\n",
        "# Combine signed and unsigned images for training\n",
        "def combined_generator(signed_gen, unsigned_gen, signed_ratio=1.0, unsigned_ratio=0.5):\n",
        "    while True:\n",
        "        signed_batch = signed_gen.next()\n",
        "        unsigned_batch = unsigned_gen.next()\n",
        "\n",
        "        # Adjust ratios based on imbalance (use more unsigned samples than available)\n",
        "        images = np.concatenate(\n",
        "            [signed_batch[0]] * int(signed_ratio * len(signed_batch[0])) +\n",
        "            [unsigned_batch[0]] * int(unsigned_ratio * len(signed_batch[0]))\n",
        "        )\n",
        "        labels = np.concatenate(\n",
        "            [signed_batch[1]] * int(signed_ratio * len(signed_batch[1])) +\n",
        "            [unsigned_batch[1]] * int(unsigned_ratio * len(signed_batch[1]))\n",
        "        )\n",
        "\n",
        "        yield images, labels\n",
        "\n",
        "train_data_gen = combined_generator(train_signed_gen, train_unsigned_gen)\n",
        "val_data_gen = combined_generator(val_signed_gen, train_unsigned_gen)\n",
        "\n",
        "# Test data generator (without augmentation, only rescaling)\n",
        "test_data_gen = ImageDataGenerator(rescale=1./255).flow_from_directory(\n",
        "    '/content/data/Alusive Documents Classification',  # Path to your test data folder or root if combined\n",
        "    target_size=IMG_SIZE,\n",
        "    batch_size=BATCH_SIZE,\n",
        "    class_mode='binary',\n",
        "    shuffle=False  # Test data should generally not be shuffled\n",
        ")\n",
        "\n"
      ],
      "metadata": {
        "colab": {
          "base_uri": "https://localhost:8080/"
        },
        "id": "zChl3G_pKLEg",
        "outputId": "7d196b0b-c386-4cee-fac8-12d1665f83d6"
      },
      "execution_count": 6,
      "outputs": [
        {
          "output_type": "stream",
          "name": "stdout",
          "text": [
            "Found 109 images belonging to 2 classes.\n",
            "Found 27 images belonging to 2 classes.\n",
            "Found 136 images belonging to 2 classes.\n"
          ]
        }
      ]
    },
    {
      "cell_type": "code",
      "source": [
        "vgg_base = tf.keras.applications.VGG16(weights='imagenet', include_top=False, input_shape=(224, 224, 3))\n",
        "\n",
        "# Freeze the base model\n",
        "vgg_base.trainable = False\n",
        "\n",
        "# Add custom classification layers\n",
        "model = tf.keras.Sequential([\n",
        "    vgg_base,\n",
        "    tf.keras.layers.Flatten(),\n",
        "    tf.keras.layers.Dense(256, activation='relu'),\n",
        "    tf.keras.layers.Dropout(0.5),\n",
        "    tf.keras.layers.Dense(1, activation='sigmoid')  # Binary classification (signed or unsigned)\n",
        "])\n",
        "\n",
        "model.compile(optimizer='adam', loss='binary_crossentropy', metrics=['accuracy'])"
      ],
      "metadata": {
        "id": "dz5WKYbcOzaB"
      },
      "execution_count": 10,
      "outputs": []
    },
    {
      "cell_type": "code",
      "source": [
        "history = model.fit(\n",
        "    train_data_gen,\n",
        "    epochs=10,\n",
        "    validation_data=val_data_gen\n",
        ")"
      ],
      "metadata": {
        "colab": {
          "base_uri": "https://localhost:8080/"
        },
        "id": "3BTLyG2wPLg1",
        "outputId": "80d2cf8e-8aae-4ff1-8201-fc6665c05f09"
      },
      "execution_count": 11,
      "outputs": [
        {
          "metadata": {
            "tags": null
          },
          "name": "stdout",
          "output_type": "stream",
          "text": [
            "Epoch 1/10\n"
          ]
        },
        {
          "metadata": {
            "tags": null
          },
          "name": "stderr",
          "output_type": "stream",
          "text": [
            "/usr/local/lib/python3.10/dist-packages/keras/src/trainers/data_adapters/py_dataset_adapter.py:121: UserWarning: Your `PyDataset` class should call `super().__init__(**kwargs)` in its constructor. `**kwargs` can include `workers`, `use_multiprocessing`, `max_queue_size`. Do not pass these arguments to `fit()`, as they will be ignored.\n",
            "  self._warn_if_super_not_called()\n"
          ]
        },
        {
          "output_type": "stream",
          "name": "stdout",
          "text": [
            "\u001b[1m4/4\u001b[0m \u001b[32m━━━━━━━━━━━━━━━━━━━━\u001b[0m\u001b[37m\u001b[0m \u001b[1m98s\u001b[0m 24s/step - accuracy: 0.7967 - loss: 0.3749 - val_accuracy: 1.0000 - val_loss: 1.0329e-26\n",
            "Epoch 2/10\n",
            "\u001b[1m4/4\u001b[0m \u001b[32m━━━━━━━━━━━━━━━━━━━━\u001b[0m\u001b[37m\u001b[0m \u001b[1m90s\u001b[0m 22s/step - accuracy: 1.0000 - loss: 1.0809e-22 - val_accuracy: 1.0000 - val_loss: 3.8165e-38\n",
            "Epoch 3/10\n",
            "\u001b[1m4/4\u001b[0m \u001b[32m━━━━━━━━━━━━━━━━━━━━\u001b[0m\u001b[37m\u001b[0m \u001b[1m97s\u001b[0m 24s/step - accuracy: 1.0000 - loss: 2.7679e-28 - val_accuracy: 1.0000 - val_loss: 0.0000e+00\n",
            "Epoch 4/10\n",
            "\u001b[1m4/4\u001b[0m \u001b[32m━━━━━━━━━━━━━━━━━━━━\u001b[0m\u001b[37m\u001b[0m \u001b[1m91s\u001b[0m 23s/step - accuracy: 1.0000 - loss: 1.3466e-37 - val_accuracy: 1.0000 - val_loss: 0.0000e+00\n",
            "Epoch 5/10\n",
            "\u001b[1m4/4\u001b[0m \u001b[32m━━━━━━━━━━━━━━━━━━━━\u001b[0m\u001b[37m\u001b[0m \u001b[1m148s\u001b[0m 28s/step - accuracy: 1.0000 - loss: 1.8896e-37 - val_accuracy: 1.0000 - val_loss: 0.0000e+00\n",
            "Epoch 6/10\n",
            "\u001b[1m4/4\u001b[0m \u001b[32m━━━━━━━━━━━━━━━━━━━━\u001b[0m\u001b[37m\u001b[0m \u001b[1m95s\u001b[0m 28s/step - accuracy: 1.0000 - loss: 0.0000e+00 - val_accuracy: 1.0000 - val_loss: 0.0000e+00\n",
            "Epoch 7/10\n",
            "\u001b[1m4/4\u001b[0m \u001b[32m━━━━━━━━━━━━━━━━━━━━\u001b[0m\u001b[37m\u001b[0m \u001b[1m140s\u001b[0m 23s/step - accuracy: 1.0000 - loss: 0.0000e+00 - val_accuracy: 1.0000 - val_loss: 0.0000e+00\n",
            "Epoch 8/10\n",
            "\u001b[1m4/4\u001b[0m \u001b[32m━━━━━━━━━━━━━━━━━━━━\u001b[0m\u001b[37m\u001b[0m \u001b[1m144s\u001b[0m 22s/step - accuracy: 1.0000 - loss: 2.6134e-38 - val_accuracy: 1.0000 - val_loss: 0.0000e+00\n",
            "Epoch 9/10\n",
            "\u001b[1m4/4\u001b[0m \u001b[32m━━━━━━━━━━━━━━━━━━━━\u001b[0m\u001b[37m\u001b[0m \u001b[1m91s\u001b[0m 22s/step - accuracy: 1.0000 - loss: 0.0000e+00 - val_accuracy: 1.0000 - val_loss: 0.0000e+00\n",
            "Epoch 10/10\n",
            "\u001b[1m4/4\u001b[0m \u001b[32m━━━━━━━━━━━━━━━━━━━━\u001b[0m\u001b[37m\u001b[0m \u001b[1m145s\u001b[0m 24s/step - accuracy: 1.0000 - loss: 1.2819e-38 - val_accuracy: 1.0000 - val_loss: 0.0000e+00\n"
          ]
        }
      ]
    },
    {
      "cell_type": "code",
      "source": [
        "test_loss, test_accuracy = model.evaluate(test_data_gen)\n",
        "print(f\"Test Accuracy: {test_accuracy * 100:.2f}%\")\n",
        "print(f\"Test Loss: {test_loss:.4f}\")"
      ],
      "metadata": {
        "colab": {
          "base_uri": "https://localhost:8080/"
        },
        "id": "xVHbzMjKTzUH",
        "outputId": "2acc51a0-5808-4b2e-abb8-14472a09c0a4"
      },
      "execution_count": 12,
      "outputs": [
        {
          "output_type": "stream",
          "name": "stdout",
          "text": [
            "\u001b[1m5/5\u001b[0m \u001b[32m━━━━━━━━━━━━━━━━━━━━\u001b[0m\u001b[37m\u001b[0m \u001b[1m91s\u001b[0m 17s/step - accuracy: 1.0000 - loss: 0.0000e+00\n",
            "Test Accuracy: 100.00%\n",
            "Test Loss: 0.0000\n"
          ]
        }
      ]
    },
    {
      "cell_type": "code",
      "source": [
        "# Predict on test data\n",
        "predictions = model.predict(test_data_gen)\n",
        "predicted_labels = np.where(predictions > 0.25, 1, 0)  # Assuming sigmoid activation, threshold at 0.5\n",
        "true_labels = test_data_gen.classes\n",
        "\n",
        "# Confusion Matrix\n",
        "conf_matrix = confusion_matrix(true_labels, predicted_labels)\n",
        "print(\"Confusion Matrix:\\n\", conf_matrix)\n",
        "\n",
        "# Assuming `true_labels` contains only one class\n",
        "# Specify labels for both classes (Unsigned=0, Signed=1)\n",
        "class_report = classification_report(true_labels, predicted_labels, target_names=['Unsigned', 'Signed'], labels=[0, 1], zero_division=0)\n",
        "print(\"Classification Report:\\n\", class_report)"
      ],
      "metadata": {
        "colab": {
          "base_uri": "https://localhost:8080/"
        },
        "id": "5r2EtJx5UQZP",
        "outputId": "274770f7-0e9c-4b70-c26d-42da66513da7"
      },
      "execution_count": 14,
      "outputs": [
        {
          "output_type": "stream",
          "name": "stdout",
          "text": [
            "\u001b[1m5/5\u001b[0m \u001b[32m━━━━━━━━━━━━━━━━━━━━\u001b[0m\u001b[37m\u001b[0m \u001b[1m90s\u001b[0m 17s/step\n",
            "Confusion Matrix:\n",
            " [[136]]\n",
            "Classification Report:\n",
            "               precision    recall  f1-score   support\n",
            "\n",
            "    Unsigned       1.00      1.00      1.00       136\n",
            "      Signed       0.00      0.00      0.00         0\n",
            "\n",
            "    accuracy                           1.00       136\n",
            "   macro avg       0.50      0.50      0.50       136\n",
            "weighted avg       1.00      1.00      1.00       136\n",
            "\n"
          ]
        },
        {
          "output_type": "stream",
          "name": "stderr",
          "text": [
            "/usr/local/lib/python3.10/dist-packages/sklearn/metrics/_classification.py:409: UserWarning: A single label was found in 'y_true' and 'y_pred'. For the confusion matrix to have the correct shape, use the 'labels' parameter to pass all known labels.\n",
            "  warnings.warn(\n"
          ]
        }
      ]
    },
    {
      "cell_type": "code",
      "source": [
        "# Load the RASNET/ResNet model without the top layer\n",
        "base_model = ResNet50(weights='imagenet', include_top=False, input_shape=(224, 224, 3))\n",
        "base_model.trainable = False  # Freeze the base model\n",
        "\n",
        "# Start building your custom model\n",
        "model = models.Sequential([\n",
        "    base_model,\n",
        "    layers.GlobalAveragePooling2D(),         # Reduces dimensions while retaining key features\n",
        "    layers.Dense(128, activation='relu'),    # Add a fully connected layer\n",
        "    layers.Dropout(0.5),                     # Dropout layer to reduce overfitting\n",
        "    layers.Dense(1, activation='sigmoid')    # Output layer for binary classification\n",
        "])\n",
        "\n",
        "model.compile(\n",
        "    optimizer='adam',\n",
        "    loss='binary_crossentropy',\n",
        "    metrics=['accuracy']\n",
        ")"
      ],
      "metadata": {
        "colab": {
          "base_uri": "https://localhost:8080/"
        },
        "id": "MuQtF4_n8ezS",
        "outputId": "cff10dac-5b07-4cc0-a6d2-6d60d21fdb11"
      },
      "execution_count": 8,
      "outputs": [
        {
          "output_type": "stream",
          "name": "stdout",
          "text": [
            "Downloading data from https://storage.googleapis.com/tensorflow/keras-applications/resnet/resnet50_weights_tf_dim_ordering_tf_kernels_notop.h5\n",
            "\u001b[1m94765736/94765736\u001b[0m \u001b[32m━━━━━━━━━━━━━━━━━━━━\u001b[0m\u001b[37m\u001b[0m \u001b[1m0s\u001b[0m 0us/step\n"
          ]
        }
      ]
    },
    {
      "cell_type": "code",
      "source": [
        "history = model.fit(\n",
        "    train_data_gen,\n",
        "    epochs=10,\n",
        "    validation_data=val_data_gen\n",
        ")"
      ],
      "metadata": {
        "colab": {
          "base_uri": "https://localhost:8080/"
        },
        "id": "IHIzE5BV80bS",
        "outputId": "fe9ad564-a9b9-4b26-8954-2a8d4ebfdb2e"
      },
      "execution_count": 9,
      "outputs": [
        {
          "output_type": "stream",
          "name": "stdout",
          "text": [
            "Epoch 1/10\n"
          ]
        },
        {
          "output_type": "stream",
          "name": "stderr",
          "text": [
            "/usr/local/lib/python3.10/dist-packages/keras/src/trainers/data_adapters/py_dataset_adapter.py:121: UserWarning: Your `PyDataset` class should call `super().__init__(**kwargs)` in its constructor. `**kwargs` can include `workers`, `use_multiprocessing`, `max_queue_size`. Do not pass these arguments to `fit()`, as they will be ignored.\n",
            "  self._warn_if_super_not_called()\n"
          ]
        },
        {
          "output_type": "stream",
          "name": "stdout",
          "text": [
            "\u001b[1m4/4\u001b[0m \u001b[32m━━━━━━━━━━━━━━━━━━━━\u001b[0m\u001b[37m\u001b[0m \u001b[1m38s\u001b[0m 7s/step - accuracy: 0.7286 - loss: 0.3971 - val_accuracy: 1.0000 - val_loss: 0.0046\n",
            "Epoch 2/10\n",
            "\u001b[1m4/4\u001b[0m \u001b[32m━━━━━━━━━━━━━━━━━━━━\u001b[0m\u001b[37m\u001b[0m \u001b[1m27s\u001b[0m 6s/step - accuracy: 1.0000 - loss: 0.0064 - val_accuracy: 1.0000 - val_loss: 4.9906e-04\n",
            "Epoch 3/10\n",
            "\u001b[1m4/4\u001b[0m \u001b[32m━━━━━━━━━━━━━━━━━━━━\u001b[0m\u001b[37m\u001b[0m \u001b[1m27s\u001b[0m 6s/step - accuracy: 1.0000 - loss: 0.0011 - val_accuracy: 1.0000 - val_loss: 1.3100e-04\n",
            "Epoch 4/10\n",
            "\u001b[1m4/4\u001b[0m \u001b[32m━━━━━━━━━━━━━━━━━━━━\u001b[0m\u001b[37m\u001b[0m \u001b[1m44s\u001b[0m 8s/step - accuracy: 1.0000 - loss: 4.1468e-04 - val_accuracy: 1.0000 - val_loss: 5.6161e-05\n",
            "Epoch 5/10\n",
            "\u001b[1m4/4\u001b[0m \u001b[32m━━━━━━━━━━━━━━━━━━━━\u001b[0m\u001b[37m\u001b[0m \u001b[1m33s\u001b[0m 10s/step - accuracy: 1.0000 - loss: 2.0041e-04 - val_accuracy: 1.0000 - val_loss: 3.3393e-05\n",
            "Epoch 6/10\n",
            "\u001b[1m4/4\u001b[0m \u001b[32m━━━━━━━━━━━━━━━━━━━━\u001b[0m\u001b[37m\u001b[0m \u001b[1m31s\u001b[0m 8s/step - accuracy: 1.0000 - loss: 2.1452e-04 - val_accuracy: 1.0000 - val_loss: 2.2703e-05\n",
            "Epoch 7/10\n",
            "\u001b[1m4/4\u001b[0m \u001b[32m━━━━━━━━━━━━━━━━━━━━\u001b[0m\u001b[37m\u001b[0m \u001b[1m31s\u001b[0m 8s/step - accuracy: 1.0000 - loss: 1.1360e-04 - val_accuracy: 1.0000 - val_loss: 1.7517e-05\n",
            "Epoch 8/10\n",
            "\u001b[1m4/4\u001b[0m \u001b[32m━━━━━━━━━━━━━━━━━━━━\u001b[0m\u001b[37m\u001b[0m \u001b[1m36s\u001b[0m 6s/step - accuracy: 1.0000 - loss: 1.4129e-04 - val_accuracy: 1.0000 - val_loss: 1.4075e-05\n",
            "Epoch 9/10\n",
            "\u001b[1m4/4\u001b[0m \u001b[32m━━━━━━━━━━━━━━━━━━━━\u001b[0m\u001b[37m\u001b[0m \u001b[1m41s\u001b[0m 6s/step - accuracy: 1.0000 - loss: 2.3836e-04 - val_accuracy: 1.0000 - val_loss: 1.1756e-05\n",
            "Epoch 10/10\n",
            "\u001b[1m4/4\u001b[0m \u001b[32m━━━━━━━━━━━━━━━━━━━━\u001b[0m\u001b[37m\u001b[0m \u001b[1m41s\u001b[0m 6s/step - accuracy: 1.0000 - loss: 7.3685e-05 - val_accuracy: 1.0000 - val_loss: 1.0497e-05\n"
          ]
        }
      ]
    },
    {
      "cell_type": "code",
      "source": [
        "test_loss, test_accuracy = model.evaluate(test_data_gen)\n",
        "print(f\"Test Accuracy: {test_accuracy * 100:.2f}%\")\n",
        "print(f\"Test Loss: {test_loss:.4f}\")"
      ],
      "metadata": {
        "colab": {
          "base_uri": "https://localhost:8080/"
        },
        "id": "6gTrJ7Xs8_NL",
        "outputId": "dbe6438a-f0e8-4795-ae74-2bde6e0ab229"
      },
      "execution_count": 10,
      "outputs": [
        {
          "output_type": "stream",
          "name": "stdout",
          "text": [
            "\u001b[1m5/5\u001b[0m \u001b[32m━━━━━━━━━━━━━━━━━━━━\u001b[0m\u001b[37m\u001b[0m \u001b[1m23s\u001b[0m 5s/step - accuracy: 1.0000 - loss: 1.5528e-05\n",
            "Test Accuracy: 100.00%\n",
            "Test Loss: 0.0000\n"
          ]
        }
      ]
    },
    {
      "cell_type": "code",
      "source": [
        "# Load EfficientNetB0 without the top classification layer\n",
        "base_model = EfficientNetB0(weights='imagenet', include_top=False, input_shape=(224, 224, 3))\n",
        "base_model.trainable = False  # Freeze the base model weights during initial training\n",
        "\n",
        "# Build the custom model on top of EfficientNetB0\n",
        "model = models.Sequential([\n",
        "    base_model,\n",
        "    layers.GlobalAveragePooling2D(),         # Reduce spatial dimensions\n",
        "    layers.Dense(128, activation='relu'),    # Add a fully connected layer\n",
        "    layers.Dropout(0.5),                     # Dropout for regularization\n",
        "    layers.Dense(1, activation='sigmoid')    # Output layer for binary classification\n",
        "])\n",
        "\n",
        "model.compile(\n",
        "    optimizer='adam',                 # You may adjust this optimizer as needed\n",
        "    loss='binary_crossentropy',       # Suitable for binary classification\n",
        "    metrics=['accuracy']\n",
        ")"
      ],
      "metadata": {
        "colab": {
          "base_uri": "https://localhost:8080/"
        },
        "id": "ChDHh8HyAHMw",
        "outputId": "85b8ec34-0ac6-41d7-f9c2-2356cd87abfa"
      },
      "execution_count": 13,
      "outputs": [
        {
          "output_type": "stream",
          "name": "stdout",
          "text": [
            "Downloading data from https://storage.googleapis.com/keras-applications/efficientnetb0_notop.h5\n",
            "\u001b[1m16705208/16705208\u001b[0m \u001b[32m━━━━━━━━━━━━━━━━━━━━\u001b[0m\u001b[37m\u001b[0m \u001b[1m0s\u001b[0m 0us/step\n"
          ]
        }
      ]
    },
    {
      "cell_type": "code",
      "source": [
        "history = model.fit(\n",
        "    train_data_gen,\n",
        "    epochs=10,\n",
        "    validation_data=val_data_gen\n",
        ")"
      ],
      "metadata": {
        "colab": {
          "base_uri": "https://localhost:8080/"
        },
        "id": "cjJ-34a0AnZC",
        "outputId": "da02053f-d24e-4549-e63b-e699bd13e1af"
      },
      "execution_count": null,
      "outputs": [
        {
          "output_type": "stream",
          "name": "stdout",
          "text": [
            "Epoch 1/10\n",
            "\u001b[1m4/4\u001b[0m \u001b[32m━━━━━━━━━━━━━━━━━━━━\u001b[0m\u001b[37m\u001b[0m \u001b[1m29s\u001b[0m 4s/step - accuracy: 0.7731 - loss: 0.6033 - val_accuracy: 1.0000 - val_loss: 0.3579\n",
            "Epoch 2/10\n",
            "\u001b[1m4/4\u001b[0m \u001b[32m━━━━━━━━━━━━━━━━━━━━\u001b[0m\u001b[37m\u001b[0m \u001b[1m17s\u001b[0m 3s/step - accuracy: 1.0000 - loss: 0.3150 - val_accuracy: 1.0000 - val_loss: 0.1830\n",
            "Epoch 3/10\n",
            "\u001b[1m4/4\u001b[0m \u001b[32m━━━━━━━━━━━━━━━━━━━━\u001b[0m\u001b[37m\u001b[0m \u001b[1m21s\u001b[0m 2s/step - accuracy: 1.0000 - loss: 0.1557 - val_accuracy: 1.0000 - val_loss: 0.0905\n",
            "Epoch 4/10\n",
            "\u001b[1m4/4\u001b[0m \u001b[32m━━━━━━━━━━━━━━━━━━━━\u001b[0m\u001b[37m\u001b[0m \u001b[1m14s\u001b[0m 3s/step - accuracy: 1.0000 - loss: 0.0786 - val_accuracy: 1.0000 - val_loss: 0.0464\n",
            "Epoch 5/10\n",
            "\u001b[1m4/4\u001b[0m \u001b[32m━━━━━━━━━━━━━━━━━━━━\u001b[0m\u001b[37m\u001b[0m \u001b[1m22s\u001b[0m 3s/step - accuracy: 1.0000 - loss: 0.0470 - val_accuracy: 1.0000 - val_loss: 0.0252\n",
            "Epoch 6/10\n",
            "\u001b[1m4/4\u001b[0m \u001b[32m━━━━━━━━━━━━━━━━━━━━\u001b[0m\u001b[37m\u001b[0m \u001b[1m14s\u001b[0m 3s/step - accuracy: 1.0000 - loss: 0.0288 - val_accuracy: 1.0000 - val_loss: 0.0147\n",
            "Epoch 7/10\n",
            "\u001b[1m4/4\u001b[0m \u001b[32m━━━━━━━━━━━━━━━━━━━━\u001b[0m\u001b[37m\u001b[0m \u001b[1m20s\u001b[0m 3s/step - accuracy: 1.0000 - loss: 0.0145 - val_accuracy: 1.0000 - val_loss: 0.0092\n",
            "Epoch 8/10\n",
            "\u001b[1m4/4\u001b[0m \u001b[32m━━━━━━━━━━━━━━━━━━━━\u001b[0m\u001b[37m\u001b[0m \u001b[1m22s\u001b[0m 3s/step - accuracy: 1.0000 - loss: 0.0094 - val_accuracy: 1.0000 - val_loss: 0.0062\n",
            "Epoch 9/10\n"
          ]
        }
      ]
    },
    {
      "cell_type": "code",
      "source": [
        "test_loss, test_accuracy = model.evaluate(test_data_gen)\n",
        "print(f\"Test Accuracy: {test_accuracy * 100:.2f}%\")\n",
        "print(f\"Test Loss: {test_loss:.4f}\")"
      ],
      "metadata": {
        "colab": {
          "base_uri": "https://localhost:8080/"
        },
        "id": "OMpGleRMBtB8",
        "outputId": "9aaab20b-0cc5-4f6d-fcf2-24c628268d7c"
      },
      "execution_count": 15,
      "outputs": [
        {
          "output_type": "stream",
          "name": "stdout",
          "text": [
            "\u001b[1m5/5\u001b[0m \u001b[32m━━━━━━━━━━━━━━━━━━━━\u001b[0m\u001b[37m\u001b[0m \u001b[1m17s\u001b[0m 3s/step - accuracy: 1.0000 - loss: 0.0033\n",
            "Test Accuracy: 100.00%\n",
            "Test Loss: 0.0033\n"
          ]
        }
      ]
    },
    {
      "cell_type": "code",
      "source": [
        "base_model.trainable = True\n",
        "\n",
        "# Freeze the first few layers if desired (e.g., first 100 layers)\n",
        "for layer in base_model.layers[:100]:\n",
        "    layer.trainable = False\n",
        "\n",
        "model.compile(\n",
        "    optimizer=tf.keras.optimizers.Adam(learning_rate=1e-5),  # Lower learning rate for fine-tuning\n",
        "    loss='binary_crossentropy',\n",
        "    metrics=['accuracy']\n",
        ")"
      ],
      "metadata": {
        "id": "tDH1N8GrLSRv"
      },
      "execution_count": 18,
      "outputs": []
    },
    {
      "cell_type": "code",
      "source": [
        "history = model.fit(\n",
        "    train_data_gen,\n",
        "    epochs=5,\n",
        "    validation_data=val_data_gen\n",
        ")"
      ],
      "metadata": {
        "colab": {
          "base_uri": "https://localhost:8080/"
        },
        "id": "kwozZ31JLvaF",
        "outputId": "d2996340-f995-4833-cdbb-25d27cbc07f3"
      },
      "execution_count": 20,
      "outputs": [
        {
          "output_type": "stream",
          "name": "stdout",
          "text": [
            "Epoch 1/5\n",
            "\u001b[1m4/4\u001b[0m \u001b[32m━━━━━━━━━━━━━━━━━━━━\u001b[0m\u001b[37m\u001b[0m \u001b[1m60s\u001b[0m 6s/step - accuracy: 0.0386 - loss: 3.2679 - val_accuracy: 1.0000 - val_loss: 0.0086\n",
            "Epoch 2/5\n",
            "\u001b[1m4/4\u001b[0m \u001b[32m━━━━━━━━━━━━━━━━━━━━\u001b[0m\u001b[37m\u001b[0m \u001b[1m19s\u001b[0m 4s/step - accuracy: 0.0206 - loss: 2.9463 - val_accuracy: 1.0000 - val_loss: 0.0175\n",
            "Epoch 3/5\n",
            "\u001b[1m4/4\u001b[0m \u001b[32m━━━━━━━━━━━━━━━━━━━━\u001b[0m\u001b[37m\u001b[0m \u001b[1m23s\u001b[0m 4s/step - accuracy: 0.0402 - loss: 2.7594 - val_accuracy: 1.0000 - val_loss: 0.0256\n",
            "Epoch 4/5\n",
            "\u001b[1m4/4\u001b[0m \u001b[32m━━━━━━━━━━━━━━━━━━━━\u001b[0m\u001b[37m\u001b[0m \u001b[1m40s\u001b[0m 4s/step - accuracy: 0.0000e+00 - loss: 2.5607 - val_accuracy: 1.0000 - val_loss: 0.0232\n",
            "Epoch 5/5\n",
            "\u001b[1m4/4\u001b[0m \u001b[32m━━━━━━━━━━━━━━━━━━━━\u001b[0m\u001b[37m\u001b[0m \u001b[1m21s\u001b[0m 4s/step - accuracy: 0.0000e+00 - loss: 2.4135 - val_accuracy: 1.0000 - val_loss: 0.0114\n"
          ]
        }
      ]
    },
    {
      "cell_type": "code",
      "source": [
        "test_loss, test_accuracy = model.evaluate(test_data_gen)\n",
        "print(f\"Test Accuracy: {test_accuracy * 100:.2f}%\")\n",
        "print(f\"Test Loss: {test_loss:.4f}\")"
      ],
      "metadata": {
        "colab": {
          "base_uri": "https://localhost:8080/"
        },
        "id": "pRw-O8jiMrGJ",
        "outputId": "86795ea4-b8ac-4713-a63d-99f7073645dd"
      },
      "execution_count": 21,
      "outputs": [
        {
          "output_type": "stream",
          "name": "stdout",
          "text": [
            "\u001b[1m5/5\u001b[0m \u001b[32m━━━━━━━━━━━━━━━━━━━━\u001b[0m\u001b[37m\u001b[0m \u001b[1m9s\u001b[0m 2s/step - accuracy: 1.0000 - loss: 0.0112\n",
            "Test Accuracy: 100.00%\n",
            "Test Loss: 0.0110\n"
          ]
        }
      ]
    },
    {
      "cell_type": "code",
      "source": [
        "# Predict on test data\n",
        "predictions = model.predict(test_data_gen)\n",
        "predicted_labels = np.where(predictions > 0.25, 1, 0)  # Assuming sigmoid activation, threshold at 0.5\n",
        "true_labels = test_data_gen.classes\n",
        "\n",
        "# Confusion Matrix\n",
        "conf_matrix = confusion_matrix(true_labels, predicted_labels)\n",
        "print(\"Confusion Matrix:\\n\", conf_matrix)\n",
        "\n",
        "# Assuming `true_labels` contains only one class\n",
        "# Specify labels for both classes (Unsigned=0, Signed=1)\n",
        "class_report = classification_report(true_labels, predicted_labels, target_names=['Unsigned', 'Signed'], labels=[0, 1], zero_division=0)\n",
        "print(\"Classification Report:\\n\", class_report)"
      ],
      "metadata": {
        "colab": {
          "base_uri": "https://localhost:8080/"
        },
        "id": "FIo9YGynT2Ia",
        "outputId": "9247e2c6-4ae2-4126-d280-fbde03f5042b"
      },
      "execution_count": 22,
      "outputs": [
        {
          "output_type": "stream",
          "name": "stdout",
          "text": [
            "\u001b[1m5/5\u001b[0m \u001b[32m━━━━━━━━━━━━━━━━━━━━\u001b[0m\u001b[37m\u001b[0m \u001b[1m16s\u001b[0m 3s/step\n",
            "Confusion Matrix:\n",
            " [[136]]\n",
            "Classification Report:\n",
            "               precision    recall  f1-score   support\n",
            "\n",
            "    Unsigned       1.00      1.00      1.00       136\n",
            "      Signed       0.00      0.00      0.00         0\n",
            "\n",
            "    accuracy                           1.00       136\n",
            "   macro avg       0.50      0.50      0.50       136\n",
            "weighted avg       1.00      1.00      1.00       136\n",
            "\n"
          ]
        },
        {
          "output_type": "stream",
          "name": "stderr",
          "text": [
            "/usr/local/lib/python3.10/dist-packages/sklearn/metrics/_classification.py:409: UserWarning: A single label was found in 'y_true' and 'y_pred'. For the confusion matrix to have the correct shape, use the 'labels' parameter to pass all known labels.\n",
            "  warnings.warn(\n"
          ]
        }
      ]
    }
  ],
  "metadata": {
    "colab": {
      "provenance": [],
      "authorship_tag": "ABX9TyOueeogVjlaCYAajMy1yIwm",
      "include_colab_link": true
    },
    "kernelspec": {
      "display_name": "Python 3",
      "name": "python3"
    },
    "language_info": {
      "name": "python"
    }
  },
  "nbformat": 4,
  "nbformat_minor": 0
}